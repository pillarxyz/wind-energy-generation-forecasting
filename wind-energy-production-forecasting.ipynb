{
 "cells": [
  {
   "cell_type": "code",
   "execution_count": 1,
   "metadata": {
    "collapsed": true,
    "jupyter": {
     "outputs_hidden": true
    }
   },
   "outputs": [
    {
     "name": "stdout",
     "output_type": "stream",
     "text": [
      "Requirement already satisfied: pmdarima in /home/ayman/anaconda3/lib/python3.8/site-packages (1.8.4)\n",
      "Requirement already satisfied: urllib3 in /home/ayman/anaconda3/lib/python3.8/site-packages (from pmdarima) (1.26.2)\n",
      "Requirement already satisfied: scipy>=1.3.2 in /home/ayman/anaconda3/lib/python3.8/site-packages (from pmdarima) (1.5.2)\n",
      "Requirement already satisfied: joblib>=0.11 in /home/ayman/anaconda3/lib/python3.8/site-packages (from pmdarima) (0.17.0)\n",
      "Requirement already satisfied: pandas>=0.19 in /home/ayman/anaconda3/lib/python3.8/site-packages (from pmdarima) (1.1.3)\n",
      "Requirement already satisfied: statsmodels!=0.12.0,>=0.11 in /home/ayman/anaconda3/lib/python3.8/site-packages (from pmdarima) (0.12.2)\n",
      "Requirement already satisfied: setuptools!=50.0.0,>=38.6.0 in /home/ayman/anaconda3/lib/python3.8/site-packages (from pmdarima) (58.2.0)\n",
      "Requirement already satisfied: scikit-learn>=0.22 in /home/ayman/anaconda3/lib/python3.8/site-packages (from pmdarima) (0.23.2)\n",
      "Requirement already satisfied: numpy>=1.19.3 in /home/ayman/anaconda3/lib/python3.8/site-packages (from pmdarima) (1.21.2)\n",
      "Requirement already satisfied: Cython!=0.29.18,>=0.29 in /home/ayman/anaconda3/lib/python3.8/site-packages (from pmdarima) (0.29.21)\n",
      "Requirement already satisfied: pytz>=2017.2 in /home/ayman/anaconda3/lib/python3.8/site-packages (from pandas>=0.19->pmdarima) (2020.5)\n",
      "Requirement already satisfied: python-dateutil>=2.7.3 in /home/ayman/anaconda3/lib/python3.8/site-packages (from pandas>=0.19->pmdarima) (2.8.1)\n",
      "Requirement already satisfied: threadpoolctl>=2.0.0 in /home/ayman/anaconda3/lib/python3.8/site-packages (from scikit-learn>=0.22->pmdarima) (2.1.0)\n",
      "Requirement already satisfied: patsy>=0.5 in /home/ayman/anaconda3/lib/python3.8/site-packages (from statsmodels!=0.12.0,>=0.11->pmdarima) (0.5.1)\n",
      "Requirement already satisfied: six in /home/ayman/anaconda3/lib/python3.8/site-packages (from patsy>=0.5->statsmodels!=0.12.0,>=0.11->pmdarima) (1.15.0)\n",
      "\u001b[33mWARNING: You are using pip version 21.3; however, version 21.3.1 is available.\n",
      "You should consider upgrading via the '/home/ayman/anaconda3/bin/python -m pip install --upgrade pip' command.\u001b[0m\n"
     ]
    }
   ],
   "source": [
    "!pip install pmdarima"
   ]
  },
  {
   "cell_type": "code",
   "execution_count": 2,
   "metadata": {},
   "outputs": [],
   "source": [
    "import pandas as pd\n",
    "import datetime\n",
    "import numpy as np\n",
    "import matplotlib.pyplot as plt\n",
    "import seaborn as sns\n",
    "import statsmodels.api as sm\n",
    "from pmdarima import auto_arima\n",
    "from sklearn.tree import DecisionTreeRegressor\n",
    "from sklearn.model_selection import GridSearchCV\n",
    "from sklearn.ensemble import RandomForestRegressor\n",
    "from sklearn.svm import SVR\n",
    "from statsmodels.tsa.seasonal import seasonal_decompose\n",
    "from statsmodels.tsa.stattools import adfuller\n",
    "import statsmodels.tsa.api as ts\n",
    "from statsmodels.graphics.tsaplots import plot_acf, plot_pacf\n",
    "import tensorflow as tf\n",
    "from keras.models import Sequential\n",
    "from keras.layers import Dense, LSTM, SimpleRNN, Bidirectional, Dropout\n",
    "from keras.callbacks import EarlyStopping\n",
    "from sklearn.metrics import mean_absolute_error, mean_squared_error\n",
    "%matplotlib inline\n",
    "\n",
    "import warnings\n",
    "warnings.filterwarnings(\"ignore\")"
   ]
  },
  {
   "cell_type": "code",
   "execution_count": 3,
   "metadata": {},
   "outputs": [
    {
     "data": {
      "text/plain": [
       "'2.6.0'"
      ]
     },
     "execution_count": 3,
     "metadata": {},
     "output_type": "execute_result"
    }
   ],
   "source": [
    "tf.__version__"
   ]
  },
  {
   "cell_type": "markdown",
   "metadata": {},
   "source": [
    "# Data Preparation"
   ]
  },
  {
   "cell_type": "code",
   "execution_count": 4,
   "metadata": {},
   "outputs": [],
   "source": [
    "data = pd.read_csv(\"data/wind_temp_data.csv\", parse_dates=['utc_timestamp'])\n",
    "data[\"utc_timestamp\"] = pd.to_datetime(data[\"utc_timestamp\"])"
   ]
  },
  {
   "cell_type": "markdown",
   "metadata": {},
   "source": [
    "we resample our dataset to be daily instead of hourly because otherwise the dataset is too noisy"
   ]
  },
  {
   "cell_type": "code",
   "execution_count": 5,
   "metadata": {},
   "outputs": [],
   "source": [
    "data = data.resample('24H', on = 'utc_timestamp').agg({'wind_generation_actual': np.sum, 'wind_capacity': np.mean, 'temperature': np.mean})\n",
    "data[\"utc_timestamp\"] = data.index"
   ]
  },
  {
   "cell_type": "code",
   "execution_count": 6,
   "metadata": {
    "execution": {
     "iopub.execute_input": "2021-12-27T01:41:20.732204Z",
     "iopub.status.busy": "2021-12-27T01:41:20.731918Z",
     "iopub.status.idle": "2021-12-27T01:41:20.736485Z",
     "shell.execute_reply": "2021-12-27T01:41:20.735755Z",
     "shell.execute_reply.started": "2021-12-27T01:41:20.732166Z"
    }
   },
   "outputs": [],
   "source": [
    "data[\"temperature\"] = data[\"temperature\"].round(3)"
   ]
  },
  {
   "cell_type": "code",
   "execution_count": 7,
   "metadata": {
    "execution": {
     "iopub.execute_input": "2021-12-27T01:41:20.738590Z",
     "iopub.status.busy": "2021-12-27T01:41:20.738076Z",
     "iopub.status.idle": "2021-12-27T01:41:20.758118Z",
     "shell.execute_reply": "2021-12-27T01:41:20.757353Z",
     "shell.execute_reply.started": "2021-12-27T01:41:20.738551Z"
    }
   },
   "outputs": [],
   "source": [
    "data"
   ]
  },
  {
   "cell_type": "code",
   "execution_count": 8,
   "metadata": {
    "execution": {
     "iopub.execute_input": "2021-12-27T01:41:20.760707Z",
     "iopub.status.busy": "2021-12-27T01:41:20.759741Z",
     "iopub.status.idle": "2021-12-27T01:41:20.775111Z",
     "shell.execute_reply": "2021-12-27T01:41:20.774290Z",
     "shell.execute_reply.started": "2021-12-27T01:41:20.760665Z"
    }
   },
   "outputs": [],
   "source": [
    "data.info()"
   ]
  },
  {
   "cell_type": "markdown",
   "metadata": {},
   "source": [
    "we have no missing data"
   ]
  },
  {
   "cell_type": "code",
   "execution_count": 9,
   "metadata": {
    "execution": {
     "iopub.execute_input": "2021-12-27T01:41:20.776962Z",
     "iopub.status.busy": "2021-12-27T01:41:20.776533Z",
     "iopub.status.idle": "2021-12-27T01:41:20.791112Z",
     "shell.execute_reply": "2021-12-27T01:41:20.786746Z",
     "shell.execute_reply.started": "2021-12-27T01:41:20.776924Z"
    }
   },
   "outputs": [],
   "source": [
    "data.isnull().sum()*100 / data.shape[0]"
   ]
  },
  {
   "cell_type": "code",
   "execution_count": 10,
   "metadata": {
    "execution": {
     "iopub.execute_input": "2021-12-27T01:41:20.794277Z",
     "iopub.status.busy": "2021-12-27T01:41:20.793358Z",
     "iopub.status.idle": "2021-12-27T01:41:20.822845Z",
     "shell.execute_reply": "2021-12-27T01:41:20.821087Z",
     "shell.execute_reply.started": "2021-12-27T01:41:20.794235Z"
    }
   },
   "outputs": [],
   "source": [
    "data.info()"
   ]
  },
  {
   "cell_type": "code",
   "execution_count": 11,
   "metadata": {
    "execution": {
     "iopub.execute_input": "2021-12-27T01:41:20.827066Z",
     "iopub.status.busy": "2021-12-27T01:41:20.824845Z",
     "iopub.status.idle": "2021-12-27T01:41:21.331385Z",
     "shell.execute_reply": "2021-12-27T01:41:21.330677Z",
     "shell.execute_reply.started": "2021-12-27T01:41:20.827002Z"
    }
   },
   "outputs": [],
   "source": [
    "fig, ax = plt.subplots(figsize=(8, 5))\n",
    "one_year = data[(data[\"utc_timestamp\"] > '2018-12-30 22:00:00+00:00') & (data[\"utc_timestamp\"] <= '2019-12-30 22:00:00+00:00')]\n",
    "ax.plot(one_year.index, one_year[\"wind_generation_actual\"])\n",
    "ax.grid()\n",
    "ax.set_ylabel('wind generation')\n",
    "ax.set_xlabel('date')\n",
    "fig.tight_layout();"
   ]
  },
  {
   "cell_type": "code",
   "execution_count": 12,
   "metadata": {
    "execution": {
     "iopub.execute_input": "2021-12-27T01:41:21.332625Z",
     "iopub.status.busy": "2021-12-27T01:41:21.332389Z",
     "iopub.status.idle": "2021-12-27T01:41:21.660250Z",
     "shell.execute_reply": "2021-12-27T01:41:21.659490Z",
     "shell.execute_reply.started": "2021-12-27T01:41:21.332594Z"
    }
   },
   "outputs": [],
   "source": [
    "fig, ax = plt.subplots(figsize=(8, 5))\n",
    "one_year = data[(data[\"utc_timestamp\"] > '2018-12-30 22:00:00+00:00') & (data[\"utc_timestamp\"] <= '2019-12-30 22:00:00+00:00')]\n",
    "ax.plot(one_year.index, one_year[\"temperature\"])\n",
    "ax.grid()\n",
    "ax.set_xlabel('date')\n",
    "ax.set_ylabel('temperature variation')\n",
    "fig.tight_layout();"
   ]
  },
  {
   "cell_type": "code",
   "execution_count": 13,
   "metadata": {
    "execution": {
     "iopub.execute_input": "2021-12-27T01:41:21.664927Z",
     "iopub.status.busy": "2021-12-27T01:41:21.664209Z",
     "iopub.status.idle": "2021-12-27T01:41:22.021741Z",
     "shell.execute_reply": "2021-12-27T01:41:22.020917Z",
     "shell.execute_reply.started": "2021-12-27T01:41:21.664883Z"
    }
   },
   "outputs": [],
   "source": [
    "fig, ax = plt.subplots(1,2,figsize=(15,8))\n",
    "acf_plot = plot_acf(data[\"wind_generation_actual\"], lags=30, ax = ax[0])\n",
    "pacf_plot = plot_pacf(data[\"wind_generation_actual\"], lags=50, ax = ax[1])\n",
    "plt.show()"
   ]
  },
  {
   "cell_type": "markdown",
   "metadata": {},
   "source": [
    "these plots can help us determine the ARIMAX(p,d,q) model parameters where p is determined by acf plot and q is determined by partial acf plot and also help in feature engineering"
   ]
  },
  {
   "cell_type": "code",
   "execution_count": 14,
   "metadata": {
    "execution": {
     "iopub.execute_input": "2021-12-27T01:41:22.024558Z",
     "iopub.status.busy": "2021-12-27T01:41:22.024004Z",
     "iopub.status.idle": "2021-12-27T01:41:22.331558Z",
     "shell.execute_reply": "2021-12-27T01:41:22.330834Z",
     "shell.execute_reply.started": "2021-12-27T01:41:22.024515Z"
    }
   },
   "outputs": [],
   "source": [
    "def correlation_heatmap(df):\n",
    "    _ , ax = plt.subplots(figsize =(14, 12))\n",
    "    colormap = sns.diverging_palette(220, 10, as_cmap = True)\n",
    "    \n",
    "    _ = sns.heatmap(\n",
    "        df.corr(), \n",
    "        cmap = colormap,\n",
    "        square=True, \n",
    "        cbar_kws={'shrink':.9 }, \n",
    "        ax=ax,\n",
    "        annot=True, \n",
    "        linewidths=0.1,vmax=1.0, linecolor='white',\n",
    "        annot_kws={'fontsize':12 }\n",
    "    )\n",
    "    \n",
    "    plt.title('Pearson Correlation of Features', y=1.05, size=15)\n",
    "\n",
    "correlation_heatmap(data)"
   ]
  },
  {
   "cell_type": "markdown",
   "metadata": {},
   "source": [
    "# Feature engineering\n",
    "\n",
    "we create new features such as year or month and shifted versions of our original features (lag features)"
   ]
  },
  {
   "cell_type": "code",
   "execution_count": 15,
   "metadata": {
    "execution": {
     "iopub.execute_input": "2021-12-27T01:41:22.333304Z",
     "iopub.status.busy": "2021-12-27T01:41:22.333061Z",
     "iopub.status.idle": "2021-12-27T01:41:22.371956Z",
     "shell.execute_reply": "2021-12-27T01:41:22.371278Z",
     "shell.execute_reply.started": "2021-12-27T01:41:22.333270Z"
    }
   },
   "outputs": [],
   "source": [
    "def feature_engineering(data):\n",
    "    \n",
    "    data[\"utc_timestamp\"] = pd.to_datetime(data[\"utc_timestamp\"], format=\"%Y-%m-%d\")\n",
    "    data[\"year\"] = data[\"utc_timestamp\"].dt.year\n",
    "    data[\"month\"] = data[\"utc_timestamp\"].dt.month\n",
    "    \n",
    "    lag_features = [\"wind_generation_actual\", \"temperature\", \"wind_capacity\"]\n",
    "    window1 = 2\n",
    "    window2 = 3\n",
    "    window3 = 7\n",
    "\n",
    "    data_rolled_2d = data[lag_features].rolling(window=window1, min_periods=0)\n",
    "    data_rolled_3d = data[lag_features].rolling(window=window2, min_periods=0)\n",
    "    data_rolled_7d = data[lag_features].rolling(window=window3, min_periods=0)\n",
    "\n",
    "    data_mean_2d = data_rolled_2d.mean().shift(1)\n",
    "    data_mean_3d = data_rolled_3d.mean().shift(1)\n",
    "    data_mean_7d = data_rolled_7d.mean().shift(1)\n",
    "    \n",
    "    data_std_2d = data_rolled_2d.std().shift(1)\n",
    "    data_std_3d = data_rolled_3d.std().shift(1)\n",
    "    data_std_7d = data_rolled_7d.std().shift(1)\n",
    "\n",
    "    for feature in lag_features:\n",
    "        data[f\"{feature}_mean_lag{window1}\"] = data_mean_2d[feature]\n",
    "        data[f\"{feature}_mean_lag{window2}\"] = data_mean_3d[feature]\n",
    "        data[f\"{feature}_mean_lag{window3}\"] = data_mean_7d[feature]\n",
    "\n",
    "        data[f\"{feature}_std_lag{window1}\"] = data_std_2d[feature]\n",
    "        data[f\"{feature}_std_lag{window2}\"] = data_std_3d[feature]\n",
    "        data[f\"{feature}_std_lag{window3}\"] = data_std_7d[feature]\n",
    "\n",
    "    data.fillna(data.mean(), inplace=True)\n",
    "    \n",
    "feature_engineering(data)"
   ]
  },
  {
   "cell_type": "code",
   "execution_count": 16,
   "metadata": {
    "execution": {
     "iopub.execute_input": "2021-12-27T01:41:22.373418Z",
     "iopub.status.busy": "2021-12-27T01:41:22.373087Z",
     "iopub.status.idle": "2021-12-27T01:41:22.406390Z",
     "shell.execute_reply": "2021-12-27T01:41:22.405545Z",
     "shell.execute_reply.started": "2021-12-27T01:41:22.373380Z"
    }
   },
   "outputs": [],
   "source": [
    "data"
   ]
  },
  {
   "cell_type": "code",
   "execution_count": 17,
   "metadata": {
    "execution": {
     "iopub.execute_input": "2021-12-27T01:41:22.407988Z",
     "iopub.status.busy": "2021-12-27T01:41:22.407672Z",
     "iopub.status.idle": "2021-12-27T01:41:22.417809Z",
     "shell.execute_reply": "2021-12-27T01:41:22.416874Z",
     "shell.execute_reply.started": "2021-12-27T01:41:22.407950Z"
    }
   },
   "outputs": [],
   "source": [
    "data.isnull().sum()"
   ]
  },
  {
   "cell_type": "code",
   "execution_count": 18,
   "metadata": {
    "execution": {
     "iopub.execute_input": "2021-12-27T01:41:22.419990Z",
     "iopub.status.busy": "2021-12-27T01:41:22.419731Z",
     "iopub.status.idle": "2021-12-27T01:41:25.266405Z",
     "shell.execute_reply": "2021-12-27T01:41:25.265683Z",
     "shell.execute_reply.started": "2021-12-27T01:41:22.419956Z"
    }
   },
   "outputs": [],
   "source": [
    "def correlation_heatmap(df):\n",
    "    _ , ax = plt.subplots(figsize =(20, 15))\n",
    "    colormap = sns.diverging_palette(220, 10, as_cmap = True)\n",
    "    \n",
    "    _ = sns.heatmap(\n",
    "        df.corr(), \n",
    "        cmap = colormap,\n",
    "        square=True, \n",
    "        cbar_kws={'shrink':.9 }, \n",
    "        ax=ax,\n",
    "        annot=True, \n",
    "        linewidths=0.1,vmax=1.0, linecolor='white',\n",
    "        annot_kws={'fontsize':12 }\n",
    "    )\n",
    "    \n",
    "    plt.title('Pearson Correlation of Features', y=1.05, size=15)\n",
    "\n",
    "correlation_heatmap(data)"
   ]
  },
  {
   "cell_type": "markdown",
   "metadata": {},
   "source": [
    "we split our data into train and test, train being from 2017 to 2019 and test being from 2019 onwards"
   ]
  },
  {
   "cell_type": "code",
   "execution_count": 19,
   "metadata": {
    "execution": {
     "iopub.execute_input": "2021-12-27T01:41:25.268580Z",
     "iopub.status.busy": "2021-12-27T01:41:25.267986Z",
     "iopub.status.idle": "2021-12-27T01:41:25.275321Z",
     "shell.execute_reply": "2021-12-27T01:41:25.274372Z",
     "shell.execute_reply.started": "2021-12-27T01:41:25.268536Z"
    }
   },
   "outputs": [],
   "source": [
    "train = data[data.year < 2019]\n",
    "valid = data[data.year >= 2019]"
   ]
  },
  {
   "cell_type": "code",
   "execution_count": 20,
   "metadata": {
    "execution": {
     "iopub.execute_input": "2021-12-27T01:41:25.277336Z",
     "iopub.status.busy": "2021-12-27T01:41:25.276810Z",
     "iopub.status.idle": "2021-12-27T01:41:25.287045Z",
     "shell.execute_reply": "2021-12-27T01:41:25.286129Z",
     "shell.execute_reply.started": "2021-12-27T01:41:25.277297Z"
    }
   },
   "outputs": [],
   "source": [
    "train.columns"
   ]
  },
  {
   "cell_type": "markdown",
   "metadata": {},
   "source": [
    "the adfuller test is used to determine if our time series is stationary or not, here we see that it's stationary"
   ]
  },
  {
   "cell_type": "code",
   "execution_count": 21,
   "metadata": {
    "execution": {
     "iopub.execute_input": "2021-12-27T01:41:25.289356Z",
     "iopub.status.busy": "2021-12-27T01:41:25.288695Z",
     "iopub.status.idle": "2021-12-27T01:41:25.339596Z",
     "shell.execute_reply": "2021-12-27T01:41:25.338894Z",
     "shell.execute_reply.started": "2021-12-27T01:41:25.289320Z"
    }
   },
   "outputs": [],
   "source": [
    "result = adfuller(data[\"wind_generation_actual\"])\n",
    "print('ADF Statistic: %f' % result[0])\n",
    "print('p-value: %f' % result[1])"
   ]
  },
  {
   "cell_type": "code",
   "execution_count": 22,
   "metadata": {
    "execution": {
     "iopub.execute_input": "2021-12-27T01:41:25.341374Z",
     "iopub.status.busy": "2021-12-27T01:41:25.340918Z",
     "iopub.status.idle": "2021-12-27T01:41:25.347530Z",
     "shell.execute_reply": "2021-12-27T01:41:25.346566Z",
     "shell.execute_reply.started": "2021-12-27T01:41:25.341338Z"
    }
   },
   "outputs": [],
   "source": [
    "data.columns"
   ]
  },
  {
   "cell_type": "code",
   "execution_count": 23,
   "metadata": {
    "execution": {
     "iopub.execute_input": "2021-12-27T01:41:25.349866Z",
     "iopub.status.busy": "2021-12-27T01:41:25.349307Z",
     "iopub.status.idle": "2021-12-27T01:41:25.356021Z",
     "shell.execute_reply": "2021-12-27T01:41:25.355195Z",
     "shell.execute_reply.started": "2021-12-27T01:41:25.349829Z"
    }
   },
   "outputs": [],
   "source": [
    "features = ['temperature', 'wind_capacity', 'year', 'month', 'wind_generation_actual_mean_lag2',\n",
    "            'wind_generation_actual_mean_lag3', 'wind_generation_actual_mean_lag7',\n",
    "            'wind_generation_actual_std_lag2', 'wind_generation_actual_std_lag3',\n",
    "            'wind_generation_actual_std_lag7', 'temperature_mean_lag2',\n",
    "            'temperature_mean_lag3', 'temperature_mean_lag7',\n",
    "            'temperature_std_lag2', 'temperature_std_lag3', 'temperature_std_lag7',\n",
    "           'wind_capacity_mean_lag2', 'wind_capacity_mean_lag3',\n",
    "           'wind_capacity_mean_lag7', 'wind_capacity_std_lag2',\n",
    "           'wind_capacity_std_lag3', 'wind_capacity_std_lag7']"
   ]
  },
  {
   "cell_type": "code",
   "execution_count": 24,
   "metadata": {
    "execution": {
     "iopub.execute_input": "2021-12-27T01:41:25.358428Z",
     "iopub.status.busy": "2021-12-27T01:41:25.357727Z",
     "iopub.status.idle": "2021-12-27T01:41:25.366048Z",
     "shell.execute_reply": "2021-12-27T01:41:25.365064Z",
     "shell.execute_reply.started": "2021-12-27T01:41:25.358389Z"
    }
   },
   "outputs": [],
   "source": [
    "len(features)"
   ]
  },
  {
   "cell_type": "markdown",
   "metadata": {},
   "source": [
    "# ARIMAX"
   ]
  },
  {
   "cell_type": "code",
   "execution_count": 25,
   "metadata": {
    "execution": {
     "iopub.execute_input": "2021-12-27T01:41:25.368568Z",
     "iopub.status.busy": "2021-12-27T01:41:25.367958Z",
     "iopub.status.idle": "2021-12-27T01:42:03.285946Z",
     "shell.execute_reply": "2021-12-27T01:42:03.285117Z",
     "shell.execute_reply.started": "2021-12-27T01:41:25.368527Z"
    }
   },
   "outputs": [],
   "source": [
    "arimaxmodel = auto_arima(train['wind_generation_actual'],\n",
    "                   exogenous = train[features], trace=True, \n",
    "                   error_action=\"ignore\", suppress_warnings=True)\n",
    "arimaxmodel.fit(train['wind_generation_actual'], exogenous = train[features])\n",
    "# model = arima()\n",
    "arimaxforecast = arimaxmodel.predict(n_periods=len(valid), exogenous = valid[features])\n",
    "valid[\"Forecast_ARIMAX\"] = arimaxforecast"
   ]
  },
  {
   "cell_type": "code",
   "execution_count": 26,
   "metadata": {
    "execution": {
     "iopub.execute_input": "2021-12-27T01:42:03.288032Z",
     "iopub.status.busy": "2021-12-27T01:42:03.287425Z",
     "iopub.status.idle": "2021-12-27T01:42:03.332347Z",
     "shell.execute_reply": "2021-12-27T01:42:03.331678Z",
     "shell.execute_reply.started": "2021-12-27T01:42:03.287979Z"
    }
   },
   "outputs": [],
   "source": [
    "arimaxmodel.summary()"
   ]
  },
  {
   "cell_type": "code",
   "execution_count": 27,
   "metadata": {
    "execution": {
     "iopub.execute_input": "2021-12-27T01:42:03.334140Z",
     "iopub.status.busy": "2021-12-27T01:42:03.333673Z",
     "iopub.status.idle": "2021-12-27T01:42:03.814399Z",
     "shell.execute_reply": "2021-12-27T01:42:03.812473Z",
     "shell.execute_reply.started": "2021-12-27T01:42:03.334102Z"
    }
   },
   "outputs": [],
   "source": [
    "valid[[\"wind_generation_actual\", \"Forecast_ARIMAX\"]].plot(figsize=(14, 7))"
   ]
  },
  {
   "cell_type": "code",
   "execution_count": 68,
   "metadata": {
    "execution": {
     "iopub.execute_input": "2021-12-27T02:09:34.786959Z",
     "iopub.status.busy": "2021-12-27T02:09:34.786525Z",
     "iopub.status.idle": "2021-12-27T02:09:34.803304Z",
     "shell.execute_reply": "2021-12-27T02:09:34.802575Z",
     "shell.execute_reply.started": "2021-12-27T02:09:34.786910Z"
    }
   },
   "outputs": [],
   "source": [
    "arimax_rmse = np.sqrt(mean_squared_error(valid[\"wind_generation_actual\"], valid.Forecast_ARIMAX))\n",
    "arimax_mae = mean_absolute_error(valid[\"wind_generation_actual\"], valid.Forecast_ARIMAX)\n",
    "\n",
    "print(\"RMSE of Auto ARIMAX:\", arimax_rmse)\n",
    "print(\"\\nMAE of Auto ARIMAX:\", arimax_mae)"
   ]
  },
  {
   "cell_type": "code",
   "execution_count": 29,
   "metadata": {
    "execution": {
     "iopub.execute_input": "2021-12-27T01:42:03.827415Z",
     "iopub.status.busy": "2021-12-27T01:42:03.826911Z",
     "iopub.status.idle": "2021-12-27T01:42:04.224535Z",
     "shell.execute_reply": "2021-12-27T01:42:04.223918Z",
     "shell.execute_reply.started": "2021-12-27T01:42:03.827376Z"
    }
   },
   "outputs": [],
   "source": [
    "fig, axes = plt.subplots(figsize=(15, 10))\n",
    "\n",
    "axes.plot(train.iloc[350:,:][\"wind_generation_actual\"], label='Training Data')\n",
    "axes.plot(valid.index, valid[\"wind_generation_actual\"], label='Actual Values')\n",
    "axes.plot(valid.index, arimaxforecast,label='Predicted Values')\n",
    "axes.set_title('Wind energy forecasts')\n",
    "axes.set_xlabel('Dates')\n",
    "axes.set_ylabel('Energy production')\n",
    "axes.legend()"
   ]
  },
  {
   "cell_type": "markdown",
   "metadata": {},
   "source": [
    "# Decision Trees"
   ]
  },
  {
   "cell_type": "code",
   "execution_count": 30,
   "metadata": {
    "execution": {
     "iopub.execute_input": "2021-12-27T01:42:04.226528Z",
     "iopub.status.busy": "2021-12-27T01:42:04.226043Z",
     "iopub.status.idle": "2021-12-27T01:42:04.250623Z",
     "shell.execute_reply": "2021-12-27T01:42:04.249982Z",
     "shell.execute_reply.started": "2021-12-27T01:42:04.226488Z"
    }
   },
   "outputs": [],
   "source": [
    "dtregressor = DecisionTreeRegressor()\n",
    "dtregressor.fit(train[features], train['wind_generation_actual'])\n",
    "dtforecast = dtregressor.predict(valid[features])\n",
    "valid[\"Forecast_DT\"] = dtforecast"
   ]
  },
  {
   "cell_type": "code",
   "execution_count": 31,
   "metadata": {
    "execution": {
     "iopub.execute_input": "2021-12-27T01:42:04.252393Z",
     "iopub.status.busy": "2021-12-27T01:42:04.251917Z",
     "iopub.status.idle": "2021-12-27T01:42:04.708491Z",
     "shell.execute_reply": "2021-12-27T01:42:04.707858Z",
     "shell.execute_reply.started": "2021-12-27T01:42:04.252357Z"
    }
   },
   "outputs": [],
   "source": [
    "valid[[\"wind_generation_actual\", \"Forecast_DT\"]].plot(figsize=(14, 7))"
   ]
  },
  {
   "cell_type": "code",
   "execution_count": 32,
   "metadata": {
    "execution": {
     "iopub.execute_input": "2021-12-27T01:42:04.710231Z",
     "iopub.status.busy": "2021-12-27T01:42:04.709782Z",
     "iopub.status.idle": "2021-12-27T01:42:04.717646Z",
     "shell.execute_reply": "2021-12-27T01:42:04.716917Z",
     "shell.execute_reply.started": "2021-12-27T01:42:04.710184Z"
    }
   },
   "outputs": [],
   "source": [
    "dt_rmse = np.sqrt(mean_squared_error(valid[\"wind_generation_actual\"], valid.Forecast_DT))\n",
    "dt_mae = mean_absolute_error(valid[\"wind_generation_actual\"], valid.Forecast_DT)\n",
    "\n",
    "print(\"RMSE of Decision Trees:\", dt_rmse)\n",
    "print(\"\\nMAE of Decision Trees:\", dt_mae)"
   ]
  },
  {
   "cell_type": "code",
   "execution_count": 33,
   "metadata": {
    "execution": {
     "iopub.execute_input": "2021-12-27T01:42:04.719468Z",
     "iopub.status.busy": "2021-12-27T01:42:04.718977Z",
     "iopub.status.idle": "2021-12-27T01:42:05.300716Z",
     "shell.execute_reply": "2021-12-27T01:42:05.300021Z",
     "shell.execute_reply.started": "2021-12-27T01:42:04.719432Z"
    }
   },
   "outputs": [],
   "source": [
    "fig, axes = plt.subplots(figsize=(15, 10))\n",
    "\n",
    "axes.plot(train.iloc[350:,:][\"wind_generation_actual\"], label='Training Data')\n",
    "axes.plot(valid.index, valid[\"wind_generation_actual\"], label='Actual Values')\n",
    "axes.plot(valid.index, dtforecast,label='Predicted Values')\n",
    "axes.set_title('Wind energy forecasts')\n",
    "axes.set_xlabel('Dates')\n",
    "axes.set_ylabel('Energy production')\n",
    "axes.legend()"
   ]
  },
  {
   "cell_type": "markdown",
   "metadata": {},
   "source": [
    "# Random Forest"
   ]
  },
  {
   "cell_type": "code",
   "execution_count": 34,
   "metadata": {
    "execution": {
     "iopub.execute_input": "2021-12-27T01:42:05.305979Z",
     "iopub.status.busy": "2021-12-27T01:42:05.301865Z",
     "iopub.status.idle": "2021-12-27T01:42:06.211603Z",
     "shell.execute_reply": "2021-12-27T01:42:06.210870Z",
     "shell.execute_reply.started": "2021-12-27T01:42:05.305938Z"
    }
   },
   "outputs": [],
   "source": [
    "rfregressor = RandomForestRegressor()\n",
    "rfregressor.fit(train[features], train['wind_generation_actual'])\n",
    "rfforecast = rfregressor.predict(valid[features])\n",
    "valid[\"Forecast_RF\"] = rfforecast"
   ]
  },
  {
   "cell_type": "code",
   "execution_count": 35,
   "metadata": {
    "execution": {
     "iopub.execute_input": "2021-12-27T01:42:06.213005Z",
     "iopub.status.busy": "2021-12-27T01:42:06.212751Z",
     "iopub.status.idle": "2021-12-27T01:42:06.860521Z",
     "shell.execute_reply": "2021-12-27T01:42:06.859868Z",
     "shell.execute_reply.started": "2021-12-27T01:42:06.212971Z"
    }
   },
   "outputs": [],
   "source": [
    "valid[[\"wind_generation_actual\", \"Forecast_RF\"]].plot(figsize=(14, 7))"
   ]
  },
  {
   "cell_type": "code",
   "execution_count": 36,
   "metadata": {
    "execution": {
     "iopub.execute_input": "2021-12-27T01:42:06.862576Z",
     "iopub.status.busy": "2021-12-27T01:42:06.862046Z",
     "iopub.status.idle": "2021-12-27T01:42:06.870628Z",
     "shell.execute_reply": "2021-12-27T01:42:06.869909Z",
     "shell.execute_reply.started": "2021-12-27T01:42:06.862538Z"
    }
   },
   "outputs": [],
   "source": [
    "rf_rmse = np.sqrt(mean_squared_error(valid[\"wind_generation_actual\"], valid.Forecast_RF))\n",
    "rf_mae = mean_absolute_error(valid[\"wind_generation_actual\"], valid.Forecast_RF)\n",
    "\n",
    "print(\"RMSE of Random Forests:\", rf_rmse)\n",
    "print(\"\\nMAE of Random Forests:\", rf_mae)"
   ]
  },
  {
   "cell_type": "code",
   "execution_count": 37,
   "metadata": {
    "execution": {
     "iopub.execute_input": "2021-12-27T01:42:06.872817Z",
     "iopub.status.busy": "2021-12-27T01:42:06.871742Z",
     "iopub.status.idle": "2021-12-27T01:42:07.234905Z",
     "shell.execute_reply": "2021-12-27T01:42:07.234232Z",
     "shell.execute_reply.started": "2021-12-27T01:42:06.872701Z"
    }
   },
   "outputs": [],
   "source": [
    "fig, axes = plt.subplots(figsize=(15, 10))\n",
    "\n",
    "axes.plot(train.iloc[350:,:][\"wind_generation_actual\"], label='Training Data')\n",
    "axes.plot(valid.index, valid[\"wind_generation_actual\"], label='Actual Values')\n",
    "axes.plot(valid.index, rfforecast,label='Predicted Values')\n",
    "axes.set_title('Wind energy forecasts')\n",
    "axes.set_xlabel('Dates')\n",
    "axes.set_ylabel('Energy production')\n",
    "axes.legend()"
   ]
  },
  {
   "cell_type": "markdown",
   "metadata": {},
   "source": [
    "# Support Vector Machine"
   ]
  },
  {
   "cell_type": "code",
   "execution_count": 38,
   "metadata": {
    "execution": {
     "iopub.execute_input": "2021-12-27T01:42:07.236442Z",
     "iopub.status.busy": "2021-12-27T01:42:07.236082Z",
     "iopub.status.idle": "2021-12-27T01:50:01.885358Z",
     "shell.execute_reply": "2021-12-27T01:50:01.884613Z",
     "shell.execute_reply.started": "2021-12-27T01:42:07.236408Z"
    }
   },
   "outputs": [],
   "source": [
    "svmregressor = SVR(kernel = \"linear\")\n",
    "svmregressor.fit(train[features], train['wind_generation_actual'])\n",
    "svmforecast = svmregressor.predict(valid[features])\n",
    "valid[\"Forecast_SVM\"] = svmforecast"
   ]
  },
  {
   "cell_type": "code",
   "execution_count": 39,
   "metadata": {
    "execution": {
     "iopub.execute_input": "2021-12-27T01:50:01.887094Z",
     "iopub.status.busy": "2021-12-27T01:50:01.886830Z",
     "iopub.status.idle": "2021-12-27T01:50:02.405691Z",
     "shell.execute_reply": "2021-12-27T01:50:02.404885Z",
     "shell.execute_reply.started": "2021-12-27T01:50:01.887060Z"
    }
   },
   "outputs": [],
   "source": [
    "valid[[\"wind_generation_actual\", \"Forecast_SVM\"]].plot(figsize=(14, 7))"
   ]
  },
  {
   "cell_type": "code",
   "execution_count": 40,
   "metadata": {
    "execution": {
     "iopub.execute_input": "2021-12-27T01:50:02.411228Z",
     "iopub.status.busy": "2021-12-27T01:50:02.410939Z",
     "iopub.status.idle": "2021-12-27T01:50:02.420508Z",
     "shell.execute_reply": "2021-12-27T01:50:02.419709Z",
     "shell.execute_reply.started": "2021-12-27T01:50:02.411194Z"
    }
   },
   "outputs": [],
   "source": [
    "svm_rmse = np.sqrt(mean_squared_error(valid[\"wind_generation_actual\"], valid.Forecast_SVM))\n",
    "svm_mae = mean_absolute_error(valid[\"wind_generation_actual\"], valid.Forecast_SVM)\n",
    "\n",
    "print(\"RMSE of SVM:\", svm_rmse)\n",
    "print(\"\\nMAE of SVM:\", svm_mae)"
   ]
  },
  {
   "cell_type": "code",
   "execution_count": 41,
   "metadata": {
    "execution": {
     "iopub.execute_input": "2021-12-27T01:50:02.422420Z",
     "iopub.status.busy": "2021-12-27T01:50:02.422131Z",
     "iopub.status.idle": "2021-12-27T01:50:02.796269Z",
     "shell.execute_reply": "2021-12-27T01:50:02.795589Z",
     "shell.execute_reply.started": "2021-12-27T01:50:02.422380Z"
    }
   },
   "outputs": [],
   "source": [
    "fig, axes = plt.subplots(figsize=(15, 10))\n",
    "\n",
    "axes.plot(train.iloc[350:,:][\"wind_generation_actual\"], label='Training Data')\n",
    "axes.plot(valid.index, valid[\"wind_generation_actual\"], label='Actual Values')\n",
    "axes.plot(valid.index, svmforecast,label='Predicted Values')\n",
    "axes.set_title('Wind energy forecasts')\n",
    "axes.set_xlabel('Dates')\n",
    "axes.set_ylabel('Energy production')\n",
    "axes.legend()"
   ]
  },
  {
   "cell_type": "markdown",
   "metadata": {},
   "source": [
    "# Artificial Neural Network"
   ]
  },
  {
   "cell_type": "code",
   "execution_count": 42,
   "metadata": {
    "execution": {
     "iopub.execute_input": "2021-12-27T01:50:02.797910Z",
     "iopub.status.busy": "2021-12-27T01:50:02.797517Z",
     "iopub.status.idle": "2021-12-27T01:50:02.808919Z",
     "shell.execute_reply": "2021-12-27T01:50:02.808211Z",
     "shell.execute_reply.started": "2021-12-27T01:50:02.797874Z"
    }
   },
   "outputs": [],
   "source": [
    "X_train, X_valid, Y_train, Y_valid=train[features], valid[features], train[\"wind_generation_actual\"], valid[\"wind_generation_actual\"]\n",
    "X_train, X_valid = np.array(X_train), np.array(X_valid)\n",
    "\n",
    "X_train_array = np.asarray(X_train.reshape((X_train.shape[0], 1, X_train.shape[1])))\n",
    "X_valid_array = np.asarray(X_valid.reshape(X_valid.shape[0], 1, X_valid.shape[1]))\n",
    "Y_train_array = np.asarray(Y_train) \n",
    "Y_valid_array = np.asarray(Y_valid)"
   ]
  },
  {
   "cell_type": "code",
   "execution_count": 43,
   "metadata": {
    "execution": {
     "iopub.execute_input": "2021-12-27T01:50:02.810577Z",
     "iopub.status.busy": "2021-12-27T01:50:02.810272Z",
     "iopub.status.idle": "2021-12-27T01:50:02.818502Z",
     "shell.execute_reply": "2021-12-27T01:50:02.817622Z",
     "shell.execute_reply.started": "2021-12-27T01:50:02.810538Z"
    }
   },
   "outputs": [],
   "source": [
    "X_train.shape"
   ]
  },
  {
   "cell_type": "code",
   "execution_count": 44,
   "metadata": {
    "execution": {
     "iopub.execute_input": "2021-12-27T01:50:02.819869Z",
     "iopub.status.busy": "2021-12-27T01:50:02.819610Z",
     "iopub.status.idle": "2021-12-27T01:50:02.827743Z",
     "shell.execute_reply": "2021-12-27T01:50:02.826752Z",
     "shell.execute_reply.started": "2021-12-27T01:50:02.819833Z"
    }
   },
   "outputs": [],
   "source": [
    "X_valid_array.shape"
   ]
  },
  {
   "cell_type": "code",
   "execution_count": 186,
   "metadata": {
    "execution": {
     "iopub.execute_input": "2021-12-27T02:31:40.214950Z",
     "iopub.status.busy": "2021-12-27T02:31:40.214664Z",
     "iopub.status.idle": "2021-12-27T02:31:40.272763Z",
     "shell.execute_reply": "2021-12-27T02:31:40.272078Z",
     "shell.execute_reply.started": "2021-12-27T02:31:40.214916Z"
    }
   },
   "outputs": [],
   "source": [
    "ann_model = Sequential([\n",
    "    Dense(32, activation=\"relu\", input_shape=(1, X_train_array.shape[2])),\n",
    "    Dense(8, activation=\"relu\"),\n",
    "    Dense(1)\n",
    "    ])"
   ]
  },
  {
   "cell_type": "code",
   "execution_count": 223,
   "metadata": {
    "execution": {
     "iopub.execute_input": "2021-12-27T02:36:40.864624Z",
     "iopub.status.busy": "2021-12-27T02:36:40.864144Z",
     "iopub.status.idle": "2021-12-27T02:36:40.878611Z",
     "shell.execute_reply": "2021-12-27T02:36:40.877670Z",
     "shell.execute_reply.started": "2021-12-27T02:36:40.864586Z"
    }
   },
   "outputs": [],
   "source": [
    "ann_model.compile(loss=tf.losses.MeanSquaredError(),\n",
    "                optimizer=tf.optimizers.Adam(learning_rate = 0.001),\n",
    "                metrics=[tf.metrics.RootMeanSquaredError()])"
   ]
  },
  {
   "cell_type": "code",
   "execution_count": 225,
   "metadata": {
    "collapsed": true,
    "execution": {
     "iopub.execute_input": "2021-12-27T02:37:02.842648Z",
     "iopub.status.busy": "2021-12-27T02:37:02.842317Z",
     "iopub.status.idle": "2021-12-27T02:37:13.111762Z",
     "shell.execute_reply": "2021-12-27T02:37:13.111003Z",
     "shell.execute_reply.started": "2021-12-27T02:37:02.842609Z"
    },
    "jupyter": {
     "outputs_hidden": true
    }
   },
   "outputs": [],
   "source": [
    "history = ann_model.fit(X_train_array, Y_train_array, \n",
    "     validation_data=(X_valid_array, Y_valid_array),\n",
    "     epochs=150, verbose=1, batch_size = 128)"
   ]
  },
  {
   "cell_type": "code",
   "execution_count": 226,
   "metadata": {
    "execution": {
     "iopub.execute_input": "2021-12-27T02:37:13.114147Z",
     "iopub.status.busy": "2021-12-27T02:37:13.113582Z",
     "iopub.status.idle": "2021-12-27T02:37:13.241103Z",
     "shell.execute_reply": "2021-12-27T02:37:13.240401Z",
     "shell.execute_reply.started": "2021-12-27T02:37:13.114107Z"
    }
   },
   "outputs": [],
   "source": [
    "annforecast = ann_model.predict(X_valid_array)\n",
    "valid[\"Forecast_ANN\"] = annforecast.squeeze()"
   ]
  },
  {
   "cell_type": "code",
   "execution_count": 227,
   "metadata": {
    "execution": {
     "iopub.execute_input": "2021-12-27T02:37:13.244014Z",
     "iopub.status.busy": "2021-12-27T02:37:13.243796Z",
     "iopub.status.idle": "2021-12-27T02:37:13.713463Z",
     "shell.execute_reply": "2021-12-27T02:37:13.711700Z",
     "shell.execute_reply.started": "2021-12-27T02:37:13.243989Z"
    }
   },
   "outputs": [],
   "source": [
    "valid[[\"wind_generation_actual\", \"Forecast_ANN\"]].plot(figsize=(14, 7))"
   ]
  },
  {
   "cell_type": "code",
   "execution_count": 228,
   "metadata": {
    "execution": {
     "iopub.execute_input": "2021-12-27T02:37:13.715799Z",
     "iopub.status.busy": "2021-12-27T02:37:13.715314Z",
     "iopub.status.idle": "2021-12-27T02:37:13.724609Z",
     "shell.execute_reply": "2021-12-27T02:37:13.723605Z",
     "shell.execute_reply.started": "2021-12-27T02:37:13.715759Z"
    }
   },
   "outputs": [],
   "source": [
    "ann_rmse = np.sqrt(mean_squared_error(valid[\"wind_generation_actual\"], valid.Forecast_ANN))\n",
    "ann_mae = mean_absolute_error(valid[\"wind_generation_actual\"], valid.Forecast_ANN)\n",
    "\n",
    "print(\"RMSE of ANN:\", ann_rmse)\n",
    "print(\"\\nMAE of ANN:\", ann_mae)"
   ]
  },
  {
   "cell_type": "code",
   "execution_count": 192,
   "metadata": {
    "execution": {
     "iopub.execute_input": "2021-12-27T02:32:13.318961Z",
     "iopub.status.busy": "2021-12-27T02:32:13.318682Z",
     "iopub.status.idle": "2021-12-27T02:32:13.690964Z",
     "shell.execute_reply": "2021-12-27T02:32:13.690267Z",
     "shell.execute_reply.started": "2021-12-27T02:32:13.318931Z"
    }
   },
   "outputs": [],
   "source": [
    "fig, axes = plt.subplots(figsize=(15, 10))\n",
    "\n",
    "axes.plot(train.iloc[350:,:][\"wind_generation_actual\"], label='Training Data')\n",
    "axes.plot(valid.index, valid[\"wind_generation_actual\"], label='Actual Values')\n",
    "axes.plot(valid.index, annforecast.squeeze(), label='Predicted Values')\n",
    "axes.set_title('Wind energy forecasts')\n",
    "axes.set_xlabel('Dates')\n",
    "axes.set_ylabel('Energy production')\n",
    "axes.legend()"
   ]
  },
  {
   "cell_type": "markdown",
   "metadata": {},
   "source": [
    "# Recurrent Neural Network"
   ]
  },
  {
   "cell_type": "code",
   "execution_count": 217,
   "metadata": {
    "execution": {
     "iopub.execute_input": "2021-12-27T02:35:35.185401Z",
     "iopub.status.busy": "2021-12-27T02:35:35.185138Z",
     "iopub.status.idle": "2021-12-27T02:35:35.256285Z",
     "shell.execute_reply": "2021-12-27T02:35:35.255589Z",
     "shell.execute_reply.started": "2021-12-27T02:35:35.185370Z"
    }
   },
   "outputs": [],
   "source": [
    "rnn_model = Sequential([\n",
    "    SimpleRNN(50, activation = \"relu\", return_sequences=False, input_shape=(1, X_train_array.shape[2])),\n",
    "    Dense(8, activation=\"relu\"),\n",
    "    Dense(1)\n",
    "\n",
    "    ])\n",
    "rnn_model.compile(loss=tf.losses.MeanSquaredError(),\n",
    "                optimizer=tf.optimizers.Adam(learning_rate = 0.001),\n",
    "                metrics=[tf.metrics.RootMeanSquaredError()])"
   ]
  },
  {
   "cell_type": "code",
   "execution_count": 229,
   "metadata": {
    "execution": {
     "iopub.execute_input": "2021-12-27T02:37:27.736778Z",
     "iopub.status.busy": "2021-12-27T02:37:27.736514Z",
     "iopub.status.idle": "2021-12-27T02:37:34.695279Z",
     "shell.execute_reply": "2021-12-27T02:37:34.694533Z",
     "shell.execute_reply.started": "2021-12-27T02:37:27.736749Z"
    }
   },
   "outputs": [],
   "source": [
    "history = rnn_model.fit(X_train_array, Y_train_array, \n",
    "     validation_data=(X_valid_array, Y_valid_array),\n",
    "     epochs=150, verbose=2, batch_size = 128)"
   ]
  },
  {
   "cell_type": "code",
   "execution_count": 230,
   "metadata": {
    "execution": {
     "iopub.execute_input": "2021-12-27T02:37:34.697347Z",
     "iopub.status.busy": "2021-12-27T02:37:34.697004Z",
     "iopub.status.idle": "2021-12-27T02:37:34.755633Z",
     "shell.execute_reply": "2021-12-27T02:37:34.754968Z",
     "shell.execute_reply.started": "2021-12-27T02:37:34.697308Z"
    }
   },
   "outputs": [],
   "source": [
    "rnnforecast = rnn_model.predict(X_valid_array)\n",
    "valid[\"Forecast_RNN\"] = rnnforecast"
   ]
  },
  {
   "cell_type": "code",
   "execution_count": 231,
   "metadata": {
    "execution": {
     "iopub.execute_input": "2021-12-27T02:37:34.758371Z",
     "iopub.status.busy": "2021-12-27T02:37:34.758183Z",
     "iopub.status.idle": "2021-12-27T02:37:35.884573Z",
     "shell.execute_reply": "2021-12-27T02:37:35.883869Z",
     "shell.execute_reply.started": "2021-12-27T02:37:34.758348Z"
    }
   },
   "outputs": [],
   "source": [
    "valid[[\"wind_generation_actual\", \"Forecast_RNN\"]].plot(figsize=(14, 7))"
   ]
  },
  {
   "cell_type": "code",
   "execution_count": 232,
   "metadata": {
    "execution": {
     "iopub.execute_input": "2021-12-27T02:37:35.887099Z",
     "iopub.status.busy": "2021-12-27T02:37:35.886350Z",
     "iopub.status.idle": "2021-12-27T02:37:35.896423Z",
     "shell.execute_reply": "2021-12-27T02:37:35.895692Z",
     "shell.execute_reply.started": "2021-12-27T02:37:35.887059Z"
    }
   },
   "outputs": [],
   "source": [
    "rnn_rmse = np.sqrt(mean_squared_error(valid[\"wind_generation_actual\"], valid.Forecast_RNN))\n",
    "rnn_mae = mean_absolute_error(valid[\"wind_generation_actual\"], valid.Forecast_RNN)\n",
    "\n",
    "print(\"RMSE of RNN:\", rnn_rmse)\n",
    "print(\"\\nMAE of RNN:\", rnn_mae)"
   ]
  },
  {
   "cell_type": "code",
   "execution_count": 233,
   "metadata": {
    "execution": {
     "iopub.execute_input": "2021-12-27T02:37:35.898097Z",
     "iopub.status.busy": "2021-12-27T02:37:35.897753Z",
     "iopub.status.idle": "2021-12-27T02:37:36.272579Z",
     "shell.execute_reply": "2021-12-27T02:37:36.271863Z",
     "shell.execute_reply.started": "2021-12-27T02:37:35.898056Z"
    }
   },
   "outputs": [],
   "source": [
    "fig, axes = plt.subplots(figsize=(15, 10))\n",
    "\n",
    "axes.plot(train.iloc[350:,:][\"wind_generation_actual\"], label='Training Data')\n",
    "axes.plot(valid.index, valid[\"wind_generation_actual\"], label='Actual Values')\n",
    "axes.plot(valid.index, rnnforecast,label='Predicted Values')\n",
    "axes.set_title('Wind energy forecasts')\n",
    "axes.set_xlabel('Dates')\n",
    "axes.set_ylabel('Energy production')\n",
    "axes.legend()"
   ]
  },
  {
   "cell_type": "markdown",
   "metadata": {},
   "source": [
    "# LSTM"
   ]
  },
  {
   "cell_type": "code",
   "execution_count": 234,
   "metadata": {
    "execution": {
     "iopub.execute_input": "2021-12-27T02:37:36.274467Z",
     "iopub.status.busy": "2021-12-27T02:37:36.273983Z",
     "iopub.status.idle": "2021-12-27T02:37:36.301499Z",
     "shell.execute_reply": "2021-12-27T02:37:36.300717Z",
     "shell.execute_reply.started": "2021-12-27T02:37:36.274428Z"
    }
   },
   "outputs": [],
   "source": [
    "lstm_model = Sequential([\n",
    "    Bidirectional(LSTM(100, activation = \"relu\", return_sequences=False, input_shape=(1, X_train_array.shape[2]))),\n",
    "    Dense(8, activation=\"relu\"),\n",
    "    Dense(1)\n",
    "\n",
    "    ])\n",
    "lstm_model.compile(loss=tf.losses.MeanSquaredError(),\n",
    "                optimizer=tf.optimizers.Adam(learning_rate = 0.001),\n",
    "                metrics=[tf.metrics.RootMeanSquaredError()])"
   ]
  },
  {
   "cell_type": "code",
   "execution_count": 235,
   "metadata": {
    "execution": {
     "iopub.execute_input": "2021-12-27T02:37:36.534991Z",
     "iopub.status.busy": "2021-12-27T02:37:36.534724Z",
     "iopub.status.idle": "2021-12-27T02:37:49.059742Z",
     "shell.execute_reply": "2021-12-27T02:37:49.059052Z",
     "shell.execute_reply.started": "2021-12-27T02:37:36.534960Z"
    }
   },
   "outputs": [],
   "source": [
    "history = lstm_model.fit(X_train_array, Y_train_array, \n",
    "     validation_data=(X_valid_array, Y_valid_array),\n",
    "     epochs=150, verbose=2, batch_size = 128)"
   ]
  },
  {
   "cell_type": "code",
   "execution_count": 236,
   "metadata": {
    "execution": {
     "iopub.execute_input": "2021-12-27T02:37:49.064805Z",
     "iopub.status.busy": "2021-12-27T02:37:49.064197Z",
     "iopub.status.idle": "2021-12-27T02:37:49.435131Z",
     "shell.execute_reply": "2021-12-27T02:37:49.434363Z",
     "shell.execute_reply.started": "2021-12-27T02:37:49.064765Z"
    }
   },
   "outputs": [],
   "source": [
    "lstmforecast = lstm_model.predict(X_valid_array)\n",
    "valid[\"Forecast_LSTM\"] = lstmforecast"
   ]
  },
  {
   "cell_type": "code",
   "execution_count": 237,
   "metadata": {
    "execution": {
     "iopub.execute_input": "2021-12-27T02:37:49.436792Z",
     "iopub.status.busy": "2021-12-27T02:37:49.436529Z",
     "iopub.status.idle": "2021-12-27T02:37:49.921736Z",
     "shell.execute_reply": "2021-12-27T02:37:49.921057Z",
     "shell.execute_reply.started": "2021-12-27T02:37:49.436756Z"
    }
   },
   "outputs": [],
   "source": [
    "valid[[\"wind_generation_actual\", \"Forecast_LSTM\"]].plot(figsize=(14, 7))"
   ]
  },
  {
   "cell_type": "code",
   "execution_count": 238,
   "metadata": {
    "execution": {
     "iopub.execute_input": "2021-12-27T02:37:49.923989Z",
     "iopub.status.busy": "2021-12-27T02:37:49.923157Z",
     "iopub.status.idle": "2021-12-27T02:37:49.932391Z",
     "shell.execute_reply": "2021-12-27T02:37:49.931559Z",
     "shell.execute_reply.started": "2021-12-27T02:37:49.923950Z"
    }
   },
   "outputs": [],
   "source": [
    "lstm_rmse = np.sqrt(mean_squared_error(valid[\"wind_generation_actual\"], valid.Forecast_LSTM))\n",
    "lstm_mae = mean_absolute_error(valid[\"wind_generation_actual\"], valid.Forecast_LSTM)\n",
    "\n",
    "print(\"RMSE of LSTM:\", lstm_rmse)\n",
    "print(\"\\nMAE of LSTM:\", lstm_mae)"
   ]
  },
  {
   "cell_type": "code",
   "execution_count": 239,
   "metadata": {
    "execution": {
     "iopub.execute_input": "2021-12-27T02:37:49.935087Z",
     "iopub.status.busy": "2021-12-27T02:37:49.934429Z",
     "iopub.status.idle": "2021-12-27T02:37:50.307336Z",
     "shell.execute_reply": "2021-12-27T02:37:50.306734Z",
     "shell.execute_reply.started": "2021-12-27T02:37:49.935022Z"
    }
   },
   "outputs": [],
   "source": [
    "fig, axes = plt.subplots(figsize=(15, 10))\n",
    "\n",
    "axes.plot(train.iloc[350:,:][\"wind_generation_actual\"], label='Training Data')\n",
    "axes.plot(valid.index, valid[\"wind_generation_actual\"], label='Actual Values')\n",
    "axes.plot(valid.index, lstmforecast,label='Predicted Values')\n",
    "axes.set_title('Wind energy forecasts')\n",
    "axes.set_xlabel('Dates')\n",
    "axes.set_ylabel('Energy production')\n",
    "axes.legend()"
   ]
  },
  {
   "cell_type": "markdown",
   "metadata": {},
   "source": [
    "# Conclusion"
   ]
  },
  {
   "cell_type": "code",
   "execution_count": 240,
   "metadata": {
    "execution": {
     "iopub.execute_input": "2021-12-27T02:37:50.309408Z",
     "iopub.status.busy": "2021-12-27T02:37:50.308598Z",
     "iopub.status.idle": "2021-12-27T02:37:50.317797Z",
     "shell.execute_reply": "2021-12-27T02:37:50.317168Z",
     "shell.execute_reply.started": "2021-12-27T02:37:50.309370Z"
    }
   },
   "outputs": [],
   "source": [
    "\n",
    "metrics = {'Models' : ['ARIMAX', 'Decision Trees', 'Random Forest', 'SVM', 'ANN', 'RNN', 'LSTM'],\n",
    "           'RMSE'   : [arimax_rmse, dt_rmse, rf_rmse, svm_rmse, ann_rmse, rnn_rmse, lstm_rmse],\n",
    "           'MAE'    : [arimax_mae, dt_mae, rf_mae, svm_mae, ann_mae, rnn_mae, lstm_mae],\n",
    "           'NRMSE'  : [arimax_rmse/valid.Forecast_ARIMAX.mean(), dt_rmse/valid.Forecast_DT.mean(), \n",
    "                       rf_rmse/valid.Forecast_RF.mean(), svm_rmse/valid.Forecast_SVM.mean(),\n",
    "                       ann_rmse/valid.Forecast_ANN.mean(), rnn_rmse/valid.Forecast_RNN.mean(),\n",
    "                       lstm_rmse/valid.Forecast_LSTM.mean()]}\n",
    "metrics = pd.DataFrame(metrics)"
   ]
  },
  {
   "cell_type": "code",
   "execution_count": 241,
   "metadata": {
    "execution": {
     "iopub.execute_input": "2021-12-27T02:37:50.319377Z",
     "iopub.status.busy": "2021-12-27T02:37:50.318941Z",
     "iopub.status.idle": "2021-12-27T02:37:50.338846Z",
     "shell.execute_reply": "2021-12-27T02:37:50.338013Z",
     "shell.execute_reply.started": "2021-12-27T02:37:50.319339Z"
    }
   },
   "outputs": [],
   "source": [
    "metrics.sort_values(by = 'RMSE')"
   ]
  },
  {
   "cell_type": "code",
   "execution_count": 242,
   "metadata": {
    "execution": {
     "iopub.execute_input": "2021-12-27T02:37:50.340377Z",
     "iopub.status.busy": "2021-12-27T02:37:50.340134Z",
     "iopub.status.idle": "2021-12-27T02:37:50.354761Z",
     "shell.execute_reply": "2021-12-27T02:37:50.354041Z",
     "shell.execute_reply.started": "2021-12-27T02:37:50.340345Z"
    }
   },
   "outputs": [],
   "source": [
    "metrics.sort_values(by = 'MAE')"
   ]
  }
 ],
 "metadata": {
  "kernelspec": {
   "display_name": "Python 3",
   "language": "python",
   "name": "python3"
  },
  "language_info": {
   "codemirror_mode": {
    "name": "ipython",
    "version": 3
   },
   "file_extension": ".py",
   "mimetype": "text/x-python",
   "name": "python",
   "nbconvert_exporter": "python",
   "pygments_lexer": "ipython3",
   "version": "3.8.11"
  }
 },
 "nbformat": 4,
 "nbformat_minor": 4
}
